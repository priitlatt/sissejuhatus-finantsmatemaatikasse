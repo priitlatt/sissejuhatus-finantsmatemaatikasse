{
 "metadata": {
  "name": "",
  "signature": "sha256:b25846c4131e1ba9b838b8e227c24c0a722ddba0f93ffcb98022d671e18854fb"
 },
 "nbformat": 3,
 "nbformat_minor": 0,
 "worksheets": [
  {
   "cells": [
    {
     "cell_type": "heading",
     "level": 1,
     "metadata": {},
     "source": [
      "SISSEJUHATUS FINANTSMATEMAATIKASSE (MTMM.00.195)"
     ]
    },
    {
     "cell_type": "heading",
     "level": 2,
     "metadata": {},
     "source": [
      "Kodut\u00f6\u00f6 nr 1 - Intresside rehkendamine"
     ]
    },
    {
     "cell_type": "markdown",
     "metadata": {},
     "source": [
      "Tutvustame j\u00e4rgnevas Pythoni lisamooduli [NumPy (*NUMerical PYthon*)](\n",
      "http://www.numpy.org) lihtsamaid finantsalaseid meetodeid intresside arvutamiseks v\u00f5i kasutamiseks.\n",
      "\n",
      "T\u00e4psemalt uurime meetodeid\n",
      " * `fv` (future value);\n",
      " * `pv` (present value);\n",
      " * `nper` (number of periodic payments);\n",
      " * `rate` (rate of interest per period)."
     ]
    },
    {
     "cell_type": "code",
     "collapsed": false,
     "input": [
      "# -*- coding: utf-8 -*-\n",
      "\n",
      "import numpy as np"
     ],
     "language": "python",
     "metadata": {},
     "outputs": [],
     "prompt_number": 1
    },
    {
     "cell_type": "markdown",
     "metadata": {},
     "source": [
      "### `fv` (future value) - tulevikuv\u00e4\u00e4rtuse arvutamine ###\n",
      "\n",
      "```Python\n",
      "fv(rate, nper, pmt, pv, when='end')\n",
      "```\n",
      "##### mis antud #####\n",
      " * hetkev\u00e4\u00e4rtuse `pv`,\n",
      " * intressim\u00e4\u00e4ra `rate`, mis lisandub kord perioodis,\n",
      " * perioodide arvu `nper`,\n",
      " * fikseeritud makse `pmt`,\n",
      " * maksmishekte `when` perioodi sees (vaikimisi perioodi l\u00f5pus ehk `'end'`, v\u00f5imalik ka perioodi alguses `'begin'`)\n",
      "\n",
      "##### korral tagastab #####\n",
      " * v\u00e4\u00e4rtuse, mis saadakse hetkev\u00e4\u00e4rtusest p\u00e4rast `nper` perioodi.\n",
      "\n",
      "##### Parameetrite t\u00fc\u00fcbid on: #####\n",
      " * `rate` : skalaar v\u00f5i j\u00e4rjend - intressim\u00e4\u00e4r perioodis arvuna (mitte protsendina),\n",
      " * `nper` : skalaar v\u00f5i j\u00e4rjend - perioodide arv,\n",
      " * `pmt` : skalaar v\u00f5i j\u00e4rjend - makse suurus,\n",
      " * `pv` : skalaar v\u00f5i j\u00e4rjend - hetkev\u00e4\u00e4rtus,\n",
      " * `when` : string `'begin'` v\u00f5i `'end'`, valikultine - millal makse sooritama peab (alguses v\u00f5i l\u00f5pus).\n",
      "\n",
      "##### N\u00e4ide 1 #####\n",
      "\n",
      "Mis on tulevikuv\u00e4\u00e4rtus 100\u20ac alginvesteeringu korral 10 aasta p\u00e4rast, kui aastane intressim\u00e4\u00e4r on 3.5% ning me lisame igal kuu alguses (l\u00f5pus) investeeringule 100\u20ac?"
     ]
    },
    {
     "cell_type": "code",
     "collapsed": false,
     "input": [
      "print(\"N\u00e4ide 1\\n-------\")\n",
      "\n",
      "RATE = 0.035 / 12  # 3.5% aastas, 3.5%/12 perioodis\n",
      "PERIOD = 10*12  # 10 aastat\n",
      "PAYMENT = -100  # maksame 100\u20ac kuus, '-' t\u00e4hendab raha v\u00e4ljavoolu\n",
      "PRESENT_VALUE = -100  # alginvesteering 100\u20ac, '-' t\u00e4hendab raha v\u00e4ljavoolu\n",
      "\n",
      "FV_1 = np.fv(RATE, PERIOD, PAYMENT, PRESENT_VALUE, when='end')\n",
      "FV_2 = np.fv(RATE, PERIOD, PAYMENT, PRESENT_VALUE, when='begin')\n",
      "\n",
      "print(\"Kuu l\u00f5pus makstes koguneb 10 aastaga %.2f\u20ac.\" % FV_1)\n",
      "print(\"Kuu alguses makstes koguneb 10 aastaga %.2f\u20ac.\" % FV_2)\n",
      "\n",
      "\"\"\"\n",
      "Sisestades intressim\u00e4\u00e4ra j\u00e4rjendina, saame v\u00f5rrelda erinevate\n",
      "m\u00e4\u00e4rade korral saadavaid tulemusi.\n",
      "\"\"\"\n",
      "\n",
      "RATES = np.array([0.02, 0.03, 0.035, 0.04, 0.045])\n",
      "FUTURE_VALUES = np.fv(RATES/12, PERIOD, PAYMENT, PRESENT_VALUE, when='end')\n",
      "for rate, fv in zip(RATES, FUTURE_VALUES):\n",
      "    print(\"Intressim\u00e4\u00e4ra {0:.1f}% korral on tulevikuv\u00e4\u00e4rtus {1:.2f}\u20ac.\"\n",
      "          .format(rate*100, fv)\n",
      "          )\n",
      "\n",
      "print(\"-------\")"
     ],
     "language": "python",
     "metadata": {},
     "outputs": [
      {
       "output_type": "stream",
       "stream": "stdout",
       "text": [
        "N\u00e4ide 1\n",
        "-------\n",
        "Kuu l\u00f5pus makstes koguneb 10 aastaga 14485.09\u20ac.\n",
        "Kuu alguses makstes koguneb 10 aastaga 14526.92\u20ac.\n",
        "Intressim\u00e4\u00e4ra 2.0% korral on tulevikuv\u00e4\u00e4rtus 13394.09\u20ac.\n",
        "Intressim\u00e4\u00e4ra 3.0% korral on tulevikuv\u00e4\u00e4rtus 14109.08\u20ac.\n",
        "Intressim\u00e4\u00e4ra 3.5% korral on tulevikuv\u00e4\u00e4rtus 14485.09\u20ac.\n",
        "Intressim\u00e4\u00e4ra 4.0% korral on tulevikuv\u00e4\u00e4rtus 14874.06\u20ac.\n",
        "Intressim\u00e4\u00e4ra 4.5% korral on tulevikuv\u00e4\u00e4rtus 15276.51\u20ac.\n",
        "-------\n"
       ]
      }
     ],
     "prompt_number": 2
    },
    {
     "cell_type": "markdown",
     "metadata": {},
     "source": [
      "### pv (present value) - hetkev\u00e4\u00e4rtuse arvutamine ###\n",
      "\n",
      "```Python\n",
      "pv(rate, nper, pmt, fv=0.0, when='end')\n",
      "```\n",
      "\n",
      "##### mis antud #####\n",
      " * tulevikuv\u00e4\u00e4rtuse `fv`,\n",
      " * intressim\u00e4\u00e4ra 'rate`, mis lisandub kord perioodis,\n",
      " * perioodide arvu `nper`,\n",
      " * fikseeritud makse `pmt`,\n",
      " * maksmishekte `when` perioodi sees (vaikimisi perioodi l\u00f5pus ehk `'end'`, v\u00f5imalik ka perioodi alguses `'begin'`)\n",
      "\n",
      "##### korral tagastab #####\n",
      " * hetkev\u00e4\u00e4rtuse praegu.\n",
      "\n",
      "##### Parameetrite t\u00fc\u00fcbid on: #####\n",
      " * `rate` : skalaar v\u00f5i j\u00e4rjend - intressim\u00e4\u00e4r perioodis arvuna (mitte protsendina),\n",
      " * `nper` : skalaar v\u00f5i j\u00e4rjend - perioodide arv,\n",
      " * `pmt` : skalaar v\u00f5i j\u00e4rjend - makse suurus,\n",
      " * `fv` : skalaar v\u00f5i j\u00e4rjend, valikuline - tulevikuv\u00e4\u00e4rtus,\n",
      " * `when` : string `'begin'` v\u00f5i `'end'`, valikuline - millal makse sooritama peab (alguses v\u00f5i l\u00f5pus).\n",
      "\n",
      "##### N\u00e4ide 2 #####\n",
      "\n",
      "Kui suur peab olema investeeringu hetkev\u00e4\u00e4rtus, et 10 aasta p\u00e4ras oleks\n",
      "kogunenud 14485.09\u20ac, kui aastane intressim\u00e4\u00e4r on 3.5% ning me lisame\n",
      "investeeringule iga kuu 100\u20ac? Kui suur peab olema alginvesteering, et selline summa koguneks 5, 6, 7, 8 v\u00f5i 9 aastaga?"
     ]
    },
    {
     "cell_type": "code",
     "collapsed": false,
     "input": [
      "print(\"\\nN\u00e4ide 2\\n-------\")\n",
      "\n",
      "RATE = 0.035 / 12  # 3.5% aastas, 3.5%/12 perioodis\n",
      "PERIOD = 10*12  # 10 aastat\n",
      "PAYMENT = -100  # maksame 100\u20ac kuus, '-' t\u00e4hendab raha v\u00e4ljavoolu\n",
      "FV = 14485.09  # soovitud tulemus\n",
      "\n",
      "PRESENT_VALUE = np.pv(RATE, PERIOD, PAYMENT, FV, when='end')\n",
      "print(\"Et toota {0}\u20ac, peaks investeeringu hetkev\u00e4\u00e4rtus olema {1:.2f}\u20ac.\"\n",
      "      .format(FV, -PRESENT_VALUE)  # '-' t\u00e4histab v\u00e4ljaminekut\n",
      "      )\n",
      "\n",
      "PERIODS = np.array([5, 6, 7, 8, 9])\n",
      "PRESENT_VALUES = np.pv(RATE, PERIODS*12, PAYMENT, FV, when='end')\n",
      "for period, pv in zip(PERIODS, PRESENT_VALUES):\n",
      "    print(\"{0} aasta korral peaks investeeringu hetkev\u00e4\u00e4rtus olema {1:.2f}\u20ac.\"\n",
      "          .format(period, -pv)  # '-' t\u00e4histab v\u00e4ljaminekut\n",
      "          )\n",
      "\n",
      "print(\"-------\")"
     ],
     "language": "python",
     "metadata": {},
     "outputs": [
      {
       "output_type": "stream",
       "stream": "stdout",
       "text": [
        "\n",
        "N\u00e4ide 2\n",
        "-------\n",
        "Et toota 14485.09\u20ac, peaks investeeringu hetkev\u00e4\u00e4rtus olema 100.00\u20ac.\n",
        "5 aasta korral peaks investeeringu hetkev\u00e4\u00e4rtus olema 6665.71\u20ac.\n",
        "6 aasta korral peaks investeeringu hetkev\u00e4\u00e4rtus olema 5259.22\u20ac.\n",
        "7 aasta korral peaks investeeringu hetkev\u00e4\u00e4rtus olema 3901.03\u20ac.\n",
        "8 aasta korral peaks investeeringu hetkev\u00e4\u00e4rtus olema 2589.49\u20ac.\n",
        "9 aasta korral peaks investeeringu hetkev\u00e4\u00e4rtus olema 1323.00\u20ac.\n",
        "-------\n"
       ]
      }
     ],
     "prompt_number": 3
    },
    {
     "cell_type": "markdown",
     "metadata": {},
     "source": [
      "### nper (net present value) - perioodiliste maksete arvu arvutamine ###\n",
      "\n",
      "```Python\n",
      "nper(rate, pmt, pv, fv=0, when='end')\n",
      "```\n",
      "\n",
      "##### mis antud #####\n",
      " * hetkev\u00e4\u00e4rtuse `pv`,\n",
      " * tulevikuv\u00e4\u00e4rtuse `fv`,\n",
      " * intressim\u00e4\u00e4ra 'rate`, mis lisandub kord perioodis,\n",
      " * fikseeritud makse `pmt`,\n",
      " * maksmishekte `when` perioodi sees (vaikimisi perioodi l\u00f5pus ehk `'end'`, v\u00f5imalik ka perioodi alguses `'begin'`)\n",
      "\n",
      "##### korral tagastab #####\n",
      " * vajalike maksete arvu.\n",
      "\n",
      "##### Parameetrite t\u00fc\u00fcbid on: #####\n",
      " * `rate` : skalaar v\u00f5i j\u00e4rjend - intressim\u00e4\u00e4r perioodis arvuna (mitte protsendina),\n",
      " * `pmt` : skalaar v\u00f5i j\u00e4rjend - makse suurus,\n",
      " * `fv` : skalaar v\u00f5i j\u00e4rjend, valikuline - tulevikuv\u00e4\u00e4rtus,\n",
      " * `pv` : skalaar v\u00f5i j\u00e4rjend, valikulinehetkev\u00e4\u00e4rtus,\n",
      " * `when` : string 'begin' v\u00f5i 'end', valikultine - millal makse sooritama peab (alguses v\u00f5i l\u00f5pus)\n",
      "\n",
      "##### N\u00e4ide 3 #####\n",
      "\n",
      "Kui laenu tagasimakse suurus on 330\u20ac kuus, siis kui kaua kulub 68000\u20ac suuruse laenu maksmiseks aastase intressim\u00e4\u00e4ra 2.8% juures?"
     ]
    },
    {
     "cell_type": "code",
     "collapsed": false,
     "input": [
      "print(\"\\nN\u00e4ide 3\\n-------\")\n",
      "\n",
      "RATE = 0.03 / 12  # 4% aastas, 3.5%/12 kuus\n",
      "PAYMENT = -330  # maksame 330\u20ac kuus, '-' t\u00e4hendab raha v\u00e4ljavoolu\n",
      "PV = 68000  # laenu suurus\n",
      "\n",
      "PERIOD_COUNT = np.nper(RATE, PAYMENT, PV)\n",
      "print(\"{0}\u20ac tasumiseks kulub {1:.2f} kuud ehk {2:.0f} aastat.\"\n",
      "      .format(PV, PERIOD_COUNT, PERIOD_COUNT/12)\n",
      "      )\n",
      "\n",
      "PAYMENTS = np.arange(300, 350, 10)\n",
      "PERIOD_COUNTS = np.nper(RATE, -PAYMENTS, PV)\n",
      "for pmt, period in zip(PAYMENTS, PERIOD_COUNTS):\n",
      "    print(\"{0}\u20ac suuruse tagasimaksega kulub {1:.2f} kuud ehk {2:.0f} aastat.\"\n",
      "          .format(pmt, period, period/12)\n",
      "          )\n",
      "\n",
      "print(\"-------\")"
     ],
     "language": "python",
     "metadata": {},
     "outputs": [
      {
       "output_type": "stream",
       "stream": "stdout",
       "text": [
        "\n",
        "N\u00e4ide 3\n",
        "-------\n",
        "68000\u20ac tasumiseks kulub 289.93 kuud ehk 24 aastat.\n",
        "300\u20ac suuruse tagasimaksega kulub 334.92 kuud ehk 28 aastat.\n",
        "310\u20ac suuruse tagasimaksega kulub 318.37 kuud ehk 27 aastat.\n",
        "320\u20ac suuruse tagasimaksega kulub 303.45 kuud ehk 25 aastat.\n",
        "330\u20ac suuruse tagasimaksega kulub 289.93 kuud ehk 24 aastat.\n",
        "340\u20ac suuruse tagasimaksega kulub 277.61 kuud ehk 23 aastat.\n",
        "-------\n"
       ]
      }
     ],
     "prompt_number": 4
    },
    {
     "cell_type": "markdown",
     "metadata": {},
     "source": [
      "### rate - perioodi intressim\u00e4\u00e4ra arvutamine ###\n",
      "\n",
      "```Python\n",
      "rate(nper, pmt, pv, fv, when='end', guess=0.1, tol=1e-06, maxiter=100)\n",
      "```\n",
      "\n",
      "##### mis antud #####\n",
      " * perioodide arvu `nper`,\n",
      " * fikseeritud makse `pmt`,\n",
      " * hetkev\u00e4\u00e4rtuse `pv`,\n",
      " * tulevikuv\u00e4\u00e4rtuse `fv`,\n",
      " * maksmishekte `when` perioodi sees (vaikimisi perioodi l\u00f5pus ehk `'end'`, v\u00f5imalik ka perioodi alguses `'begin'`)\n",
      "\n",
      "##### korral tagastab #####\n",
      " * intressim\u00e4\u00e4ra \u00fche perioodi kohta.\n",
      "\n",
      "##### Parameetrite t\u00fc\u00fcbid on: #####\n",
      " * nper : skalaar v\u00f5i j\u00e4rjend - perioodide arv,\n",
      " * pmt : skalaar v\u00f5i j\u00e4rjend - makse suurus,\n",
      " * fv : skalaar v\u00f5i j\u00e4rjend, valikuline - tulevikuv\u00e4\u00e4rtus,\n",
      " * pv : skalaar v\u00f5i j\u00e4rjend, valikuline - hetkev\u00e4\u00e4rtus,\n",
      " * when : string 'begin' v\u00f5i 'end', valikultine - millal makse sooritama peab (alguses v\u00f5i l\u00f5pus)\n",
      "\n",
      "##### N\u00e4ide 4 #####\n",
      "\n",
      "Millise aastase intressim\u00e4\u00e4ra juures koguneb 10 aasta jooksul 15000\u20ac, kui me hoiustame iga kuu 100\u20ac?"
     ]
    },
    {
     "cell_type": "code",
     "collapsed": false,
     "input": [
      "print(\"\\nN\u00e4ide 4\\n-------\")\n",
      "\n",
      "PERIOD = 10*12  # 10 aastat igakuise maksega\n",
      "PAYMENT = -100  # maksame 100\u20ac kuus, '-' t\u00e4hendab raha v\u00e4ljavoolu\n",
      "PV = 0  # laenu suurus\n",
      "FV = 15000\n",
      "\n",
      "rate = np.rate(PERIOD, PAYMENT, PV, FV)\n",
      "print(\"{0}\u20ac kogunemiseks peab aastane intressim\u00e4\u00e4r olema {1:.2f}%.\"\n",
      "      .format(FV, 100*12*rate))\n",
      "\n",
      "print(\"-------\")"
     ],
     "language": "python",
     "metadata": {},
     "outputs": [
      {
       "output_type": "stream",
       "stream": "stdout",
       "text": [
        "\n",
        "N\u00e4ide 4\n",
        "-------\n",
        "15000\u20ac kogunemiseks peab aastane intressim\u00e4\u00e4r olema 4.35%.\n",
        "-------\n"
       ]
      }
     ],
     "prompt_number": 5
    },
    {
     "cell_type": "code",
     "collapsed": false,
     "input": [],
     "language": "python",
     "metadata": {},
     "outputs": []
    }
   ],
   "metadata": {}
  }
 ]
}